{
  "nbformat": 4,
  "nbformat_minor": 0,
  "metadata": {
    "colab": {
      "name": "ml practical 2.ipynb",
      "provenance": [],
      "collapsed_sections": [],
      "authorship_tag": "ABX9TyNUsZwnkjsgbkP6wZ9awpja",
      "include_colab_link": true
    },
    "kernelspec": {
      "name": "python3",
      "display_name": "Python 3"
    }
  },
  "cells": [
    {
      "cell_type": "markdown",
      "metadata": {
        "id": "view-in-github",
        "colab_type": "text"
      },
      "source": [
        "<a href=\"https://colab.research.google.com/github/mohak1/machine-learning-labs/blob/main/ml_practical_2.ipynb\" target=\"_parent\"><img src=\"https://colab.research.google.com/assets/colab-badge.svg\" alt=\"Open In Colab\"/></a>"
      ]
    },
    {
      "cell_type": "markdown",
      "metadata": {
        "id": "Uo3KsX4lMwbB"
      },
      "source": [
        "###2. Using Linear Regression from sklearn"
      ]
    },
    {
      "cell_type": "code",
      "metadata": {
        "colab": {
          "base_uri": "https://localhost:8080/",
          "height": 282
        },
        "id": "V7Dq5YpK2KCe",
        "outputId": "275cbd5f-45bf-4ea3-f03b-1baf78969457"
      },
      "source": [
        "from sklearn.datasets import make_regression\n",
        "from sklearn.linear_model import LinearRegression\n",
        "from sklearn.model_selection import train_test_split\n",
        "import numpy as np\n",
        "import matplotlib.pyplot as plt\n",
        "\n",
        "#generate linearly predictable data using sklearn make regression\n",
        "X,Y = make_regression(n_samples=100, n_features=1, noise=3)\n",
        "\n",
        "#create a linear model\n",
        "linear_model = LinearRegression()\n",
        "\n",
        "x_train, x_test, y_train, y_test = train_test_split(X,Y,test_size=0.2,random_state=0)\n",
        "\n",
        "#training the linear regression model\n",
        "linear_model.fit(x_train, y_train)\n",
        "\n",
        "#testing the performance of the trained model\n",
        "error = 0\n",
        "for i,data in enumerate(x_test):\n",
        "  data = np.reshape(data, (-1,1))\n",
        "  prediction = linear_model.predict(data)\n",
        "  #mean squared error\n",
        "  error += (prediction - y_test[i])**2\n",
        "print(f'the MSE of the linear model is {error/len(x_test)}')\n",
        "\n",
        "#plot the training & test set \n",
        "plt.scatter(x_train, y_train, color='blue')\n",
        "plt.scatter(x_test, y_test, color='orange')\n",
        "plt.scatter(x_test, linear_model.predict(np.reshape(x_test,(-1,1))), color='green')\n",
        "plt.show()"
      ],
      "execution_count": null,
      "outputs": [
        {
          "output_type": "stream",
          "text": [
            "the MSE of the linear model is [7.56484826]\n"
          ],
          "name": "stdout"
        },
        {
          "output_type": "display_data",
          "data": {
            "image/png": "[encoded data removed]",
            "text/plain": [
              "<Figure size 432x288 with 1 Axes>"
            ]
          },
          "metadata": {
            "tags": [],
            "needs_background": "light"
          }
        }
      ]
    },
    {
      "cell_type": "markdown",
      "metadata": {
        "id": "h1CLd0bPQUNx"
      },
      "source": [
        "###3. and 4. Gradient Descent without sklearn (single and multivariate)"
      ]
    },
    {
      "cell_type": "code",
      "metadata": {
        "id": "I6ADLQJ8xiCd"
      },
      "source": [
        "from sklearn.datasets import make_regression\n",
        "from sklearn.model_selection import train_test_split\n",
        "import numpy as np\n",
        "\n",
        "#generate single feature data\n",
        "X,Y = make_regression(n_samples=100, n_features=1, noise=3)\n",
        "\n",
        "#split data\n",
        "x_train, x_test, y_train, y_test = train_test_split(X,Y,test_size=0.2, random_state=0)"
      ],
      "execution_count": null,
      "outputs": []
    },
    {
      "cell_type": "code",
      "metadata": {
        "id": "nmXjKhD9OjYT"
      },
      "source": [
        "#define a model\n",
        "class my_regression_model:\n",
        "\n",
        "  def __init__(self, n_features=1):\n",
        "    #features=the no of features in the data\n",
        "    #create a dictionary to handle multiple weight vectors (when there are more features)\n",
        "    self.weight = {}\n",
        "    for i in range(n_features+1):\n",
        "      #name of this weight\n",
        "      weight_name = 'w'+str(i)\n",
        "      #add it to the weight dictionary and initialise it to zero (its a scalar)\n",
        "      self.weight[weight_name] = 0.0 \n",
        "    #print('self.weights at the end of init: ',self.weight)\n",
        "      \n",
        "\n",
        "  def model_output(self, feature):\n",
        "    #the model is of the form: w0 + w1x1 + w2x2 + ... + wnxn\n",
        "    no_of_weights = len(self.weight)\n",
        "    output_val = 0\n",
        "    for i in range(no_of_weights):\n",
        "      weight_name = 'w'+str(i)\n",
        "      if(weight_name=='w0'):\n",
        "        continue\n",
        "      weight = self.weight[weight_name]\n",
        "      #output_val = w1x1 + w2x2 + ... + wnxn\n",
        "      #print('value of i-1', i-1)\n",
        "      #print('value of feature: ', feature)\n",
        "      output_val += weight*feature[0][i-1]\n",
        "    #add w0 now\n",
        "    output_val += self.weight['w0']\n",
        "    return output_val\n",
        "\n",
        "\n",
        "  def update_weights(self, error, learning_rate, feature):\n",
        "    #for w0, update does not involve xi\n",
        "    no_of_weights = len(self.weight)\n",
        "    for i in range(no_of_weights):\n",
        "      weight_name = 'w'+str(i)\n",
        "      if(weight_name=='w0'):\n",
        "        self.weight[weight_name] += learning_rate*error\n",
        "      else:\n",
        "        self.weight[weight_name] += learning_rate*error*feature[i-1]\n",
        "\n",
        "\n",
        "  def train(self, train_x, train_y, batch_size=1, epochs=50, learning_rate=0.001):\n",
        "    for _ in range(epochs):\n",
        "      error=0\n",
        "      for i,x in enumerate(train_x):\n",
        "        #model output\n",
        "        x = np.reshape(x,(-1,len(x)))\n",
        "        output = self.model_output(x)\n",
        "        #accumulate the error  \n",
        "        error += train_y[i]-output\n",
        "        #forward pass until batch size, then back prop\n",
        "        if(i%batch_size==0):\n",
        "          self.update_weights(error, learning_rate, train_x[i])\n",
        "          error=0\n",
        "\n",
        "  def test(self, test_x, test_y):\n",
        "    mse_error = 0\n",
        "    #returns the list of model outputs for the entire input\n",
        "    for i,x in enumerate(test_x):\n",
        "      #model output\n",
        "      x = np.reshape(x,(-1,len(x)))\n",
        "      output = self.model_output(x)\n",
        "      mse_error += (output-test_y[i])**2\n",
        "    mse_error = mse_error/len(test_x)\n",
        "    return mse_error "
      ],
      "execution_count": null,
      "outputs": []
    },
    {
      "cell_type": "code",
      "metadata": {
        "colab": {
          "base_uri": "https://localhost:8080/"
        },
        "id": "PXwg_GZWxLsq",
        "outputId": "eba61a9f-cc30-4ef2-d439-7c065d736b9b"
      },
      "source": [
        "#using this model\n",
        "model = my_regression_model(n_features=1)\n",
        "model.train(x_train, y_train, batch_size=1, epochs=200, learning_rate=0.001)\n",
        "mse_error = model.test(x_test, y_test)\n",
        "print('Batch Size = 1; The mean squared error is: ', mse_error)\n",
        "\n",
        "model = my_regression_model(n_features=1)\n",
        "model.train(x_train, y_train, batch_size=2, epochs=500, learning_rate=0.01)\n",
        "mse_error = model.test(x_test, y_test)\n",
        "print('Batch Size = 2; The mean squared error is: ', mse_error)\n",
        "\n",
        "model = my_regression_model(n_features=1)\n",
        "model.train(x_train, y_train, batch_size=3, epochs=115, learning_rate=0.01)\n",
        "mse_error = model.test(x_test, y_test)\n",
        "print('Batch Size = 3; The mean squared error is: ', mse_error)\n",
        "\n",
        "model = my_regression_model(n_features=1)\n",
        "model.train(x_train, y_train, batch_size=4, epochs=115, learning_rate=0.01)\n",
        "mse_error = model.test(x_test, y_test)\n",
        "print('Batch Size = 4; The mean squared error is: ', mse_error)\n",
        "\n",
        "#works as good as sklearn regression model!"
      ],
      "execution_count": null,
      "outputs": [
        {
          "output_type": "stream",
          "text": [
            "Batch Size = 1; The mean squared error is:  13.070988993490605\n",
            "Batch Size = 2; The mean squared error is:  15.272330463146375\n",
            "Batch Size = 3; The mean squared error is:  13.01746524244469\n",
            "Batch Size = 4; The mean squared error is:  10.3882608716435\n"
          ],
          "name": "stdout"
        }
      ]
    },
    {
      "cell_type": "markdown",
      "metadata": {
        "id": "A-Zp04IP_mwf"
      },
      "source": [
        "###Multivariate Linear Regression"
      ]
    },
    {
      "cell_type": "code",
      "metadata": {
        "colab": {
          "base_uri": "https://localhost:8080/"
        },
        "id": "fEoPTUol7ihR",
        "outputId": "278d0c59-1334-4ccc-8709-066d1a322c18"
      },
      "source": [
        "from sklearn.datasets import make_regression\n",
        "from sklearn.model_selection import train_test_split\n",
        "import numpy as np\n",
        "\n",
        "#generate single feature data\n",
        "X,Y = make_regression(n_samples=100, n_features=3, noise=3)\n",
        "\n",
        "#split data\n",
        "x_train, x_test, y_train, y_test = train_test_split(X,Y,test_size=0.2, random_state=0)\n",
        "\n",
        "#using this model\n",
        "model = my_regression_model(n_features=3)\n",
        "model.train(x_train, y_train, batch_size=1, epochs=100, learning_rate=0.01)\n",
        "mse_error = model.test(x_test, y_test)\n",
        "print('Batch Size = 1; The mean squared error is: ', mse_error)\n",
        "\n",
        "model = my_regression_model(n_features=3)\n",
        "model.train(x_train, y_train, batch_size=2, epochs=150, learning_rate=0.01)\n",
        "mse_error = model.test(x_test, y_test)\n",
        "print('Batch Size = 2; The mean squared error is: ', mse_error)\n",
        "\n",
        "model = my_regression_model(n_features=3)\n",
        "model.train(x_train, y_train, batch_size=3, epochs=300, learning_rate=0.01)\n",
        "mse_error = model.test(x_test, y_test)\n",
        "print('Batch Size = 3; The mean squared error is: ', mse_error)\n",
        "\n",
        "model = my_regression_model(n_features=3)\n",
        "model.train(x_train, y_train, batch_size=4, epochs=390, learning_rate=0.01)\n",
        "mse_error = model.test(x_test, y_test)\n",
        "print('Batch Size = 4; The mean squared error is: ', mse_error)"
      ],
      "execution_count": null,
      "outputs": [
        {
          "output_type": "stream",
          "text": [
            "Batch Size = 1; The mean squared error is:  9.430947342993719\n",
            "Batch Size = 2; The mean squared error is:  9.597211738217364\n",
            "Batch Size = 3; The mean squared error is:  20.86717801689047\n",
            "Batch Size = 4; The mean squared error is:  7.086688653590917e+18\n"
          ],
          "name": "stdout"
        }
      ]
    },
    {
      "cell_type": "markdown",
      "metadata": {
        "id": "sEjoTA4VDql1"
      },
      "source": [
        "###5. More: Ensemble of trees"
      ]
    },
    {
      "cell_type": "code",
      "metadata": {
        "colab": {
          "base_uri": "https://localhost:8080/"
        },
        "id": "rVKHmMuYDtNB",
        "outputId": "7141f599-eb2f-404d-bd99-9d245f21c3cc"
      },
      "source": [
        "from sklearn.datasets import load_breast_cancer\n",
        "from sklearn.model_selection import train_test_split\n",
        "from sklearn.tree import DecisionTreeClassifier\n",
        "from statistics import mode\n",
        "\n",
        "bc = load_breast_cancer()\n",
        "X = bc.data\n",
        "Y = bc.target\n",
        "x_train, x_test, y_train, y_test = train_test_split(X,Y, test_size=0.20, random_state=0)\n",
        "\n",
        "#train 5 trees and ensemble them\n",
        "tree1 = DecisionTreeClassifier().fit(x_train,y_train)\n",
        "score1 = tree1.score(x_test, y_test)\n",
        "\n",
        "tree2 = DecisionTreeClassifier().fit(x_train,y_train)\n",
        "score2 = tree2.score(x_test, y_test)\n",
        "\n",
        "tree3 = DecisionTreeClassifier().fit(x_train,y_train)\n",
        "score3 = tree3.score(x_test, y_test)\n",
        "\n",
        "tree4 = DecisionTreeClassifier().fit(x_train,y_train)\n",
        "score4 = tree4.score(x_test, y_test)\n",
        "\n",
        "tree5 = DecisionTreeClassifier().fit(x_train,y_train)\n",
        "score5 = tree5.score(x_test, y_test)\n",
        "\n",
        "print('individual score of the trees are: ',score1,score2,score3,score4,score5)\n",
        "\n",
        "#ensemble\n",
        "outs = []\n",
        "final_output = []\n",
        "for i, x in enumerate(x_test):\n",
        "  x = np.reshape(x, (1,-1))\n",
        "  outs.append(tree1.predict(x)[0])\n",
        "  outs.append(tree2.predict(x)[0])\n",
        "  outs.append(tree3.predict(x)[0])\n",
        "  outs.append(tree4.predict(x)[0])\n",
        "  outs.append(tree5.predict(x)[0])\n",
        "  mode_output = mode(outs)\n",
        "  final_output.append(mode_output)\n",
        "  outs = []\n",
        "\n",
        "#get the score of the ensemble model\n",
        "correct = 0\n",
        "for i in range(len(x_test)):\n",
        "  if(final_output[i]==y_test[i]):\n",
        "    correct += 1\n",
        "accuracy = (correct/len(x_test))*100\n",
        "print('score of the ensemble tree', accuracy)"
      ],
      "execution_count": null,
      "outputs": [
        {
          "output_type": "stream",
          "text": [
            "individual score of the trees are:  0.8947368421052632 0.9122807017543859 0.9122807017543859 0.9035087719298246 0.9035087719298246\n",
            "score of the ensemble tree 90.35087719298247\n"
          ],
          "name": "stdout"
        }
      ]
    }
  ]
}