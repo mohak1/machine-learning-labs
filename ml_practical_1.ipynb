{
  "nbformat": 4,
  "nbformat_minor": 0,
  "metadata": {
    "colab": {
      "name": "ml practical 1.ipynb",
      "provenance": [],
      "collapsed_sections": [],
      "authorship_tag": "ABX9TyP3JGweEwLf26qMRg15/B8O",
      "include_colab_link": true
    },
    "kernelspec": {
      "name": "python3",
      "display_name": "Python 3"
    }
  },
  "cells": [
    {
      "cell_type": "markdown",
      "metadata": {
        "id": "view-in-github",
        "colab_type": "text"
      },
      "source": [
        "<a href=\"https://colab.research.google.com/github/mohak1/machine-learning-labs/blob/main/ml_practical_1.ipynb\" target=\"_parent\"><img src=\"https://colab.research.google.com/assets/colab-badge.svg\" alt=\"Open In Colab\"/></a>"
      ]
    },
    {
      "cell_type": "markdown",
      "metadata": {
        "id": "KnwR0FFV4REl"
      },
      "source": [
        "\n",
        "###Section 2: Decision Trees"
      ]
    },
    {
      "cell_type": "code",
      "metadata": {
        "id": "-YVUhRAnCW24"
      },
      "source": [
        "#training a classifier on breast cancer dataset\n",
        "\n",
        "from sklearn.datasets import load_breast_cancer\n",
        "from sklearn.model_selection import train_test_split\n",
        "\n",
        "bc = load_breast_cancer()\n",
        "X = bc.data\n",
        "Y = bc.target\n",
        "\n",
        "x_train, x_test, y_train, y_test = train_test_split(X,Y, test_size=0.20, random_state=0)\n"
      ],
      "execution_count": null,
      "outputs": []
    },
    {
      "cell_type": "code",
      "metadata": {
        "colab": {
          "base_uri": "https://localhost:8080/"
        },
        "id": "5i7hVUPqDLDZ",
        "outputId": "05089218-d0fa-44b4-b1b6-34867b0719c3"
      },
      "source": [
        "from sklearn import tree \n",
        "breast_cancer_decision_tree = tree.DecisionTreeClassifier().fit(x_train,y_train)\n",
        "\n",
        "breast_cancer_decision_tree.score(x_test, y_test)"
      ],
      "execution_count": null,
      "outputs": [
        {
          "output_type": "execute_result",
          "data": {
            "text/plain": [
              "0.6017783423308987"
            ]
          },
          "metadata": {
            "tags": []
          },
          "execution_count": 2
        }
      ]
    },
    {
      "cell_type": "code",
      "metadata": {
        "colab": {
          "base_uri": "https://localhost:8080/"
        },
        "id": "BR-QLgCjDa6E",
        "outputId": "75981f34-37d2-40ca-9b67-44911abc50ea"
      },
      "source": [
        "#building 10 such decision trees and getting the output\n",
        "\n",
        "output = []\n",
        "\n",
        "for i in range(10):\n",
        "  d_tree = tree.DecisionTreeRegressor().fit(x_train, y_train)\n",
        "  out = d_tree.score(x_test, y_test)\n",
        "  print(out)\n",
        "  output.append(out)\n",
        "print('average score = ',sum(output)/10)"
      ],
      "execution_count": null,
      "outputs": [
        {
          "output_type": "stream",
          "text": [
            "0.6379803112099078\n",
            "0.6379803112099078\n",
            "0.6379803112099078\n",
            "0.6017783423308987\n",
            "0.6379803112099078\n",
            "0.6017783423308987\n",
            "0.6379803112099078\n",
            "0.6017783423308987\n",
            "0.6017783423308987\n",
            "0.6017783423308987\n",
            "average score =  0.6198793267704034\n"
          ],
          "name": "stdout"
        }
      ]
    },
    {
      "cell_type": "code",
      "metadata": {
        "colab": {
          "base_uri": "https://localhost:8080/"
        },
        "id": "F4D-ke3qF7C_",
        "outputId": "9d1c41da-e286-401a-f602-da2c5eaaa78c"
      },
      "source": [
        "import math\n",
        "#computing the standard deviation of the result obtained from testing 10 decision trees\n",
        "#sd**2 = sum(x-mean(x))/total_no_of_x\n",
        "\n",
        "mean=sum(output)/10\n",
        "out_minus_mean = output-mean\n",
        "standard_deviation = math.sqrt(sum(out_minus_mean**2)/10)\n",
        "print('standard error is the standard deivation:')\n",
        "print('standard deviation = ', standard_deviation)"
      ],
      "execution_count": null,
      "outputs": [
        {
          "output_type": "stream",
          "text": [
            "standard error is the standard deivation:\n",
            "standard deviation =  0.018100984439504586\n"
          ],
          "name": "stdout"
        }
      ]
    },
    {
      "cell_type": "markdown",
      "metadata": {
        "id": "RD_6PNX24JQh"
      },
      "source": [
        "###Section 3: Cross Validation"
      ]
    },
    {
      "cell_type": "code",
      "metadata": {
        "colab": {
          "base_uri": "https://localhost:8080/"
        },
        "id": "thyU6gZ3HaIY",
        "outputId": "14d9a988-c138-4ae1-b5d3-96165026b046"
      },
      "source": [
        "#cross validation using sklearn\n",
        "from sklearn import metrics\n",
        "from sklearn.model_selection import cross_val_score\n",
        "#five fold cross validation (cv=5)\n",
        "cv_scores = cross_val_score(d_tree, X, Y, cv=5)\n",
        "print('cross validation mean: ', cv_scores.mean())\n",
        "print('cross validation standard dev: ', cv_scores.std())"
      ],
      "execution_count": null,
      "outputs": [
        {
          "output_type": "stream",
          "text": [
            "cross validation mean:  0.5568330204408595\n",
            "cross validation standard dev:  0.18376009538747437\n"
          ],
          "name": "stdout"
        }
      ]
    },
    {
      "cell_type": "code",
      "metadata": {
        "colab": {
          "base_uri": "https://localhost:8080/"
        },
        "id": "ddQEd5SCHbz9",
        "outputId": "b58417db-cf83-4300-d11d-1bab83810fff"
      },
      "source": [
        "#k fold cross validation without sklearn\n",
        "'''\n",
        "process of k fold cross validation:\n",
        "  1. split the data into k parts\n",
        "  2. train the classifier on k-1 parts, test on kth part\n",
        "  3. in next iteration, change the training testing pratition and train\n",
        "  4. repeat the training process for k iterations\n",
        "  5. report the mean error and standard deviation\n",
        "'''\n",
        "\n",
        "import numpy as np\n",
        "\n",
        "k = 10\n",
        "model = tree.DecisionTreeClassifier()\n",
        "model_score = []\n",
        "for i in range(k):\n",
        "  #length of test data: len(data)/k, take the rest of the data for training\n",
        "  length_of_test_set = math.floor(len(X)/k)\n",
        "  split_start = length_of_test_set*i\n",
        "  split_end = (length_of_test_set*i)+length_of_test_set\n",
        "  test_set_x = X[split_start:split_end,:]\n",
        "  test_set_y = Y[split_start:split_end]\n",
        "\n",
        "  #training: 0 to split_start, split_end to len(X or Y)\n",
        "  a=[]\n",
        "  a=X[0:split_start,:]\n",
        "  a=list(a)+list(X[split_end:,:])\n",
        "  b = Y[0:split_start]\n",
        "  b=list(b)+list(Y[split_end:])\n",
        "  training_set_x = np.array(a)\n",
        "  training_set_y = np.array(b)\n",
        "  model.fit(training_set_x, training_set_y)\n",
        "  model_score.append(model.score(test_set_x, test_set_y))\n",
        "\n",
        "#standard deviation \n",
        "mean = sum(model_score)/k\n",
        "std = math.sqrt(sum((model_score-mean)**2)/k)\n",
        "print('10 fold cross validation mean: ', mean)\n",
        "print('10 fold cross validation standard dev: ', std)\n",
        "print('#######################')\n",
        "print('score elements: \\n', model_score)"
      ],
      "execution_count": null,
      "outputs": [
        {
          "output_type": "stream",
          "text": [
            "10 fold cross validation mean:  0.9214285714285714\n",
            "10 fold cross validation standard dev:  0.03762733483161692\n",
            "#######################\n",
            "score elements: \n",
            " [0.875, 0.9107142857142857, 0.8928571428571429, 1.0, 0.9285714285714286, 0.9642857142857143, 0.9107142857142857, 0.9107142857142857, 0.9464285714285714, 0.875]\n"
          ],
          "name": "stdout"
        }
      ]
    },
    {
      "cell_type": "code",
      "metadata": {
        "colab": {
          "base_uri": "https://localhost:8080/"
        },
        "id": "9LaIEVRpHcT_",
        "outputId": "9d25bbf0-1b1d-41c4-8915-cdb4c6fa96c4"
      },
      "source": [
        "r1 = [[1,2,3],[4,5,6],[7,8,9]]\n",
        "r2 = [[1,2,3]]\n",
        "r3 = [a for a in r1 if a not in r2]\n",
        "print(r3)"
      ],
      "execution_count": null,
      "outputs": [
        {
          "output_type": "stream",
          "text": [
            "[[4, 5, 6], [7, 8, 9]]\n"
          ],
          "name": "stdout"
        }
      ]
    },
    {
      "cell_type": "markdown",
      "metadata": {
        "id": "hR3e5a5Y4BeT"
      },
      "source": [
        "###Section 4: Metrics"
      ]
    },
    {
      "cell_type": "code",
      "metadata": {
        "colab": {
          "base_uri": "https://localhost:8080/"
        },
        "id": "JSIVNJc14Ddc",
        "outputId": "cc32f87c-0d74-4841-8147-da7543aa21c9"
      },
      "source": [
        "#confusion matrix for breast cancer decision tree\n",
        "\n",
        "#the data: x_train, x_test, y_train, y_test\n",
        "#the traiend decision tree: breast_cancer_decision_tree\n",
        "\n",
        "#elements of a confusion matrix: [[TP, FP], [FN, TN]]\n",
        "\n",
        "#computing the confusion matrix over the validation set (test set here)\n",
        "TP = 0\n",
        "FP = 0\n",
        "FN = 0\n",
        "TN = 0\n",
        "for i,data in enumerate(x_test):\n",
        "  y_hat = breast_cancer_decision_tree.predict(data.reshape(1,-1))\n",
        "  actual_y = y_test[i]\n",
        "  if actual_y==1 and y_hat==1:\n",
        "    TP+=1\n",
        "  elif actual_y==0 and y_hat==1:\n",
        "    FP+=1\n",
        "  elif actual_y==1 and y_hat==0:\n",
        "    FN+=1\n",
        "  elif actual_y==0 and y_hat==0:\n",
        "    TN+=1\n",
        "  else:\n",
        "    print(f'case not handled: y_hat={y_hat} and actual_y={actual_y}')\n",
        "\n",
        "#display the confusion matrix\n",
        "print('Confusion matrix:\\n')\n",
        "print('                Actual')\n",
        "print('             | 1   | 0')\n",
        "print('         ----|-----|------')\n",
        "print(f'Predicted 1  | {TP}  | {FP}')\n",
        "print('         ----|-----|------')\n",
        "print(f'          0  | {FN}   | {TN}')\n",
        "print('         ----|-----|------')\n",
        "\n"
      ],
      "execution_count": null,
      "outputs": [
        {
          "output_type": "stream",
          "text": [
            "Confusion matrix:\n",
            "\n",
            "                Actual\n",
            "             | 1   | 0\n",
            "         ----|-----|------\n",
            "Predicted 1  | 58  | 2\n",
            "         ----|-----|------\n",
            "          0  | 9   | 45\n",
            "         ----|-----|------\n"
          ],
          "name": "stdout"
        }
      ]
    },
    {
      "cell_type": "code",
      "metadata": {
        "colab": {
          "base_uri": "https://localhost:8080/"
        },
        "id": "7sa98_SH_Is0",
        "outputId": "9f0b8e32-2bce-4f9e-b35f-f9f1c7014f97"
      },
      "source": [
        "#precision, recall, F1\n",
        "\n",
        "#precision = TP/(TP+FP)\n",
        "#recall = TP/(TP+FN)\n",
        "#f1 = 2*(precision*recall)/(precision+recall)\n",
        "\n",
        "print(f'Precision: {TP/(TP+FP)}')\n",
        "print(f'Recall: {TP/(TP+FN)}')\n",
        "print(f'F1 Score: {2*(TP/(TP+FP))*(TP/(TP+FN))/((TP/(TP+FN))+(TP/(TP+FP)))}')"
      ],
      "execution_count": null,
      "outputs": [
        {
          "output_type": "stream",
          "text": [
            "Precision: 0.9666666666666667\n",
            "Recall: 0.8656716417910447\n",
            "F1 Score: 0.9133858267716535\n"
          ],
          "name": "stdout"
        }
      ]
    },
    {
      "cell_type": "code",
      "metadata": {
        "colab": {
          "base_uri": "https://localhost:8080/"
        },
        "id": "lGcfIK4iASt-",
        "outputId": "ab7002fb-4797-48bf-a87f-3268190f14e9"
      },
      "source": [
        "#mean and standard error of precision and recall of the 10 fold cross-validation decision trees\n",
        "\n",
        "#a method to compute precision, recall and f1 score\n",
        "\n",
        "def calculate_prf(tree, test_set_x, test_set_y):\n",
        "  x_test = test_set_x\n",
        "  y_test = test_set_y\n",
        "  TP=0;FP=0; FN=0; TN=0\n",
        "  for i,data in enumerate(x_test):\n",
        "    y_hat = tree.predict(data.reshape(1,-1))\n",
        "    actual_y = y_test[i]\n",
        "    \n",
        "    if actual_y==1 and y_hat==1:\n",
        "      TP+=1\n",
        "    elif actual_y==0 and y_hat==1:\n",
        "      FP+=1\n",
        "    elif actual_y==1 and y_hat==0:\n",
        "      FN+=1\n",
        "    elif actual_y==0 and y_hat==0:\n",
        "      TN+=1\n",
        "    else:\n",
        "      print(f'case not handled: y_hat={y_hat} and actual_y={actual_y}')\n",
        "  precision = TP/(TP+FP)\n",
        "  recall = TP/(TP+FN)\n",
        "  f1 = 2*(TP/(TP+FP))*(TP/(TP+FN))/((TP/(TP+FN))+(TP/(TP+FP)))\n",
        "  \n",
        "  return (precision, recall, f1)\n",
        "\n",
        "#k fold cross validation for decision trees: \n",
        "\n",
        "k = 10\n",
        "model = tree.DecisionTreeClassifier()\n",
        "model_score = []\n",
        "model_precision = []\n",
        "model_recall = []\n",
        "model_f1 = []\n",
        "\n",
        "for i in range(k):\n",
        "  #length of test data: len(data)/k, take the rest of the data for training\n",
        "  length_of_test_set = math.floor(len(X)/k)\n",
        "  split_start = length_of_test_set*i\n",
        "  split_end = (length_of_test_set*i)+length_of_test_set\n",
        "  test_set_x = X[split_start:split_end,:]\n",
        "  test_set_y = Y[split_start:split_end]\n",
        "\n",
        "  #training: 0 to split_start, split_end to len(X or Y)\n",
        "  a=[]\n",
        "  a=X[0:split_start,:]\n",
        "  a=list(a)+list(X[split_end:,:])\n",
        "  b = Y[0:split_start]\n",
        "  b=list(b)+list(Y[split_end:])\n",
        "  training_set_x = np.array(a)\n",
        "  training_set_y = np.array(b)\n",
        "  model.fit(training_set_x, training_set_y)\n",
        "  model_score.append(model.score(test_set_x, test_set_y))\n",
        "  \n",
        "  p,r,f = calculate_prf(model, test_set_x, test_set_y)\n",
        "  model_precision.append(p)\n",
        "  model_recall.append(r)\n",
        "  model_f1.append(f)\n",
        "\n",
        "#standard deviation \n",
        "mean = sum(model_score)/k\n",
        "std = math.sqrt(sum((model_score-mean)**2)/k)\n",
        "\n",
        "mean_p = sum(model_precision)\n",
        "mean_r = sum(model_recall)\n",
        "mean_f = sum(model_f1)\n",
        "std_p = math.sqrt(sum((np.array(model_precision)-mean_p)**2)/k)\n",
        "std_r = math.sqrt(sum((np.array(model_recall)-mean_r)**2)/k)\n",
        "std_f = math.sqrt(sum((np.array(model_f1)-mean_f)**2)/k)\n",
        "\n",
        "print('Decision Trees\\n')\n",
        "print('10 fold cross validation mean: ', mean)\n",
        "print('10 fold cross validation standard dev: ', std)\n",
        "\n",
        "print('\\n10 fold cross validation Precision mean: ', mean_p)\n",
        "print('10 fold cross validation Precision standard dev: ', std_p)\n",
        "\n",
        "print('\\n10 fold cross validation Recall mean: ', mean_r)\n",
        "print('10 fold cross validation Recall standard dev: ', std_r)\n",
        "\n",
        "print('\\n10 fold cross validation F1 mean: ', mean_f)\n",
        "print('10 fold cross validation F1 standard dev: ', std_f)"
      ],
      "execution_count": null,
      "outputs": [
        {
          "output_type": "stream",
          "text": [
            "Decision Trees\n",
            "\n",
            "10 fold cross validation mean:  0.9232142857142858\n",
            "10 fold cross validation standard dev:  0.03485575231418417\n",
            "\n",
            "10 fold cross validation Precision mean:  9.396402188388404\n",
            "10 fold cross validation Precision standard dev:  8.457103555510379\n",
            "\n",
            "10 fold cross validation Recall mean:  9.306586047704704\n",
            "10 fold cross validation Recall standard dev:  8.376047839982617\n",
            "\n",
            "10 fold cross validation F1 mean:  9.322671291779937\n",
            "10 fold cross validation F1 standard dev:  8.39050364830652\n"
          ],
          "name": "stdout"
        }
      ]
    },
    {
      "cell_type": "code",
      "metadata": {
        "colab": {
          "base_uri": "https://localhost:8080/",
          "height": 329
        },
        "id": "pPETeHJkPPLH",
        "outputId": "e0b129fb-92c8-437f-b41b-a128546f557b"
      },
      "source": [
        "#ROC curve\n",
        "!pip install scikit-plot -q\n",
        "\n",
        "#using knn\n",
        "from sklearn.neighbors import KNeighborsClassifier\n",
        "import scikitplot as skplt\n",
        "import matplotlib.pyplot as plt\n",
        "\n",
        "neigh = KNeighborsClassifier(n_neighbors=5)\n",
        "neigh.fit(x_train, y_train)\n",
        "knn_perform = neigh.predict_proba(x_test)\n",
        "skplt.metrics.plot_roc_curve(y_test, knn_perform)\n",
        "plt.show()"
      ],
      "execution_count": null,
      "outputs": [
        {
          "output_type": "stream",
          "text": [
            "/usr/local/lib/python3.6/dist-packages/sklearn/utils/deprecation.py:87: FutureWarning: Function plot_roc_curve is deprecated; This will be removed in v0.5.0. Please use scikitplot.metrics.plot_roc instead.\n",
            "  warnings.warn(msg, category=FutureWarning)\n"
          ],
          "name": "stderr"
        },
        {
          "output_type": "display_data",
          "data": {
            "image/png": "[encoded data removed]",
            "text/plain": [
              "<Figure size 432x288 with 1 Axes>"
            ]
          },
          "metadata": {
            "tags": [],
            "needs_background": "light"
          }
        }
      ]
    },
    {
      "cell_type": "markdown",
      "metadata": {
        "id": "b8-OE5MeYBE1"
      },
      "source": [
        "###Section 5: Nearest Neighbour "
      ]
    },
    {
      "cell_type": "code",
      "metadata": {
        "colab": {
          "base_uri": "https://localhost:8080/"
        },
        "id": "Sco2u31gX8rf",
        "outputId": "0c2007bc-5e82-4bfb-9de6-7dea41024b67"
      },
      "source": [
        "#10 fold cross validation on knn\n",
        "from sklearn.neighbors import KNeighborsClassifier\n",
        "\n",
        "def calculate_prf(tree, test_set_x, test_set_y):\n",
        "  x_test = test_set_x\n",
        "  y_test = test_set_y\n",
        "  TP=0;FP=0; FN=0; TN=0\n",
        "  for i,data in enumerate(x_test):\n",
        "    y_hat = tree.predict(data.reshape(1,-1))\n",
        "    actual_y = y_test[i]\n",
        "    \n",
        "    if actual_y==1 and y_hat==1:\n",
        "      TP+=1\n",
        "    elif actual_y==0 and y_hat==1:\n",
        "      FP+=1\n",
        "    elif actual_y==1 and y_hat==0:\n",
        "      FN+=1\n",
        "    elif actual_y==0 and y_hat==0:\n",
        "      TN+=1\n",
        "    else:\n",
        "      print(f'case not handled: y_hat={y_hat} and actual_y={actual_y}')\n",
        "  precision = TP/(TP+FP)\n",
        "  recall = TP/(TP+FN)\n",
        "  f1 = 2*(TP/(TP+FP))*(TP/(TP+FN))/((TP/(TP+FN))+(TP/(TP+FP)))\n",
        "  \n",
        "  return (precision, recall, f1)\n",
        "\n",
        "#k fold cross validation for decision trees: \n",
        "\n",
        "k = 10\n",
        "knn_model = KNeighborsClassifier(n_neighbors=10)\n",
        "model_score = []\n",
        "model_score = []\n",
        "model_precision = []\n",
        "model_recall = []\n",
        "model_f1 = []\n",
        "\n",
        "for i in range(k):\n",
        "  #length of test data: len(data)/k, take the rest of the data for training\n",
        "  length_of_test_set = math.floor(len(X)/k)\n",
        "  split_start = length_of_test_set*i\n",
        "  split_end = (length_of_test_set*i)+length_of_test_set\n",
        "  test_set_x = X[split_start:split_end,:]\n",
        "  test_set_y = Y[split_start:split_end]\n",
        "\n",
        "  #training: 0 to split_start, split_end to len(X or Y)\n",
        "  a=[]\n",
        "  a=X[0:split_start,:]\n",
        "  a=list(a)+list(X[split_end:,:])\n",
        "  b = Y[0:split_start]\n",
        "  b=list(b)+list(Y[split_end:])\n",
        "  training_set_x = np.array(a)\n",
        "  training_set_y = np.array(b)\n",
        "  knn_model.fit(training_set_x, training_set_y)\n",
        "  model_score.append(model.score(test_set_x, test_set_y))\n",
        "  \n",
        "  p,r,f = calculate_prf(knn_model, test_set_x, test_set_y)\n",
        "  model_precision.append(p)\n",
        "  model_recall.append(r)\n",
        "  model_f1.append(f)\n",
        "\n",
        "#standard deviation \n",
        "mean = sum(model_score)/k\n",
        "std = math.sqrt(sum((model_score-mean)**2)/k)\n",
        "\n",
        "mean_p = sum(model_precision)\n",
        "mean_r = sum(model_recall)\n",
        "mean_f = sum(model_f1)\n",
        "std_p = math.sqrt(sum((np.array(model_precision)-mean_p)**2)/k)\n",
        "std_r = math.sqrt(sum((np.array(model_recall)-mean_r)**2)/k)\n",
        "std_f = math.sqrt(sum((np.array(model_f1)-mean_f)**2)/k)\n",
        "\n",
        "print('K Nearest Neighbour Classifier\\n')\n",
        "print('10 fold cross validation mean: ', mean)\n",
        "print('10 fold cross validation standard dev: ', std)\n",
        "\n",
        "print('\\n10 fold cross validation Precision mean: ', mean_p)\n",
        "print('10 fold cross validation Precision standard dev: ', std_p)\n",
        "\n",
        "print('\\n10 fold cross validation Recall mean: ', mean_r)\n",
        "print('10 fold cross validation Recall standard dev: ', std_r)\n",
        "\n",
        "print('\\n10 fold cross validation F1 mean: ', mean_f)\n",
        "print('10 fold cross validation F1 standard dev: ', std_f)"
      ],
      "execution_count": null,
      "outputs": [
        {
          "output_type": "stream",
          "text": [
            "K Nearest Neighbour Classifier\n",
            "\n",
            "10 fold cross validation mean:  0.9205673758865249\n",
            "10 fold cross validation standard dev:  0.23829787234042554\n",
            "\n",
            "10 fold cross validation Precision mean:  9.084570535317763\n",
            "10 fold cross validation Precision standard dev:  8.177425442635228\n",
            "\n",
            "10 fold cross validation Recall mean:  9.645016301894087\n",
            "10 fold cross validation Recall standard dev:  8.680578881496183\n",
            "\n",
            "10 fold cross validation F1 mean:  9.266641624855595\n",
            "10 fold cross validation F1 standard dev:  8.340521274481828\n"
          ],
          "name": "stdout"
        }
      ]
    },
    {
      "cell_type": "markdown",
      "metadata": {
        "id": "lIZzKRp-bVUv"
      },
      "source": [
        ""
      ]
    },
    {
      "cell_type": "markdown",
      "metadata": {
        "id": "inzUj9xjbW6o"
      },
      "source": [
        "###Section 6"
      ]
    },
    {
      "cell_type": "code",
      "metadata": {
        "colab": {
          "base_uri": "https://localhost:8080/"
        },
        "id": "EHH0CjWEbaF4",
        "outputId": "1c10d309-102a-44f4-80cb-3d03ca9ca055"
      },
      "source": [
        "#doing on iris dataset\n",
        "#using sklearn metrics\n",
        "#knn using 10 neighbours\n",
        "\n",
        "from sklearn.datasets import load_iris\n",
        "from sklearn.model_selection import train_test_split\n",
        "from sklearn.neighbors import KNeighborsClassifier\n",
        "from sklearn.metrics import accuracy_score, precision_score, recall_score, f1_score\n",
        "\n",
        "iris = load_iris()\n",
        "\n",
        "x = iris.data\n",
        "y = iris.target\n",
        "x_train, x_test, y_train, y_test = train_test_split(x,y, test_size=0.20, random_state=0)\n",
        "\n",
        "knn_model_iris = KNeighborsClassifier(n_neighbors=10)\n",
        "\n",
        "knn_model_iris.fit(x_train, y_train)\n",
        "\n",
        "knn_result = knn_model_iris.predict(x_test)\n",
        "\n",
        "acc = accuracy_score(y_test, knn_result)\n",
        "preci = precision_score(y_test, knn_result, average='micro')\n",
        "recal = recall_score(y_test, knn_result, average='micro')\n",
        "f1 = f1_score(y_test, knn_result, average='micro')\n",
        "\n",
        "print(f'Accuracy={acc}, Precision={preci}, Recall={recal}, F1-Score={f1}')"
      ],
      "execution_count": null,
      "outputs": [
        {
          "output_type": "stream",
          "text": [
            "Accuracy=1.0, Precision=1.0, Recall=1.0, F1-Score=1.0\n"
          ],
          "name": "stdout"
        }
      ]
    }
  ]
}