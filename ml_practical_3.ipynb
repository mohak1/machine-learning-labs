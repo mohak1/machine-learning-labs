{
  "nbformat": 4,
  "nbformat_minor": 0,
  "metadata": {
    "colab": {
      "name": "ml practical 3.ipynb",
      "provenance": [],
      "collapsed_sections": [],
      "authorship_tag": "ABX9TyPx/E9EzJ5rG8PuhkNHFLTm",
      "include_colab_link": true
    },
    "kernelspec": {
      "name": "python3",
      "display_name": "Python 3"
    }
  },
  "cells": [
    {
      "cell_type": "markdown",
      "metadata": {
        "id": "view-in-github",
        "colab_type": "text"
      },
      "source": [
        "<a href=\"https://colab.research.google.com/github/mohak1/machine-learning-labs/blob/main/ml_practical_3.ipynb\" target=\"_parent\"><img src=\"https://colab.research.google.com/assets/colab-badge.svg\" alt=\"Open In Colab\"/></a>"
      ]
    },
    {
      "cell_type": "markdown",
      "metadata": {
        "id": "OMCIj7TXkca3"
      },
      "source": [
        "###1. K Means Clustering"
      ]
    },
    {
      "cell_type": "code",
      "metadata": {
        "id": "JrvAH4jqifbK"
      },
      "source": [
        "#using all the features(columns) of the dataset\n",
        "from sklearn.datasets import load_iris\n",
        "import numpy as np\n",
        "\n",
        "np.random.seed(1)\n",
        "\n",
        "class KMeansClustering:\n",
        "  def __init__(self, data, target, clusters=3):\n",
        "    data = data/np.max(data)    #because the random coordinates are b/w 0-1\n",
        "    self.data = data\n",
        "    self.target = target\n",
        "    self.k = clusters\n",
        "\n",
        "  def init_cluster_centers(self):\n",
        "    '''\n",
        "    this method randomly initialises k points as cluster centers\n",
        "    '''\n",
        "    #the dims of cluster points is the same as the dims of the data\n",
        "    dims = len(self.data[0])\n",
        "    #k random nos, each with dimensions = dims of data\n",
        "    self.centers = np.random.random((self.k,dims))\n",
        "    \n",
        "  def update_cluster_centers(self):\n",
        "    '''\n",
        "    self.dist is a k*no_of_data list, transpose if it is no_of_data*k\n",
        "    taking the transpose, value of (ith row, jth col) would be distance of ith data from jth cluster point\n",
        "    taking an argmin on each row the nearest cluster point of each data can be determined \n",
        "    \n",
        "    clustered_point: a dictionary of {cluster_point: [cluster_elements]}\n",
        "    this list would help in updating the cluster center\n",
        "    '''\n",
        "    self.centers_dict = {}\n",
        "    self.clustered_points = {}\n",
        "    #key: value, key=cluster center, values=cluster members\n",
        "    \n",
        "    for i in range(self.k):\n",
        "      #a dictionary to keep track of which no. corresponds to which center point\n",
        "      self.centers_dict[i] = self.centers[i]\n",
        "      #init the points dict with empty lists to append with data points later\n",
        "      self.clustered_points[i] = []\n",
        "\n",
        "\n",
        "    self.dist_transpose = np.transpose(self.dist)\n",
        "    for i in range(len(self.data)):\n",
        "      #cluster count starts with 0\n",
        "      nearest_cluster = np.argmin(self.dist_transpose[i])\n",
        "      self.clustered_points[nearest_cluster].append(self.data[i])\n",
        "\n",
        "    #update the cluster centers\n",
        "    for i in range(self.k):\n",
        "      #get the center point\n",
        "      cluster_point = self.centers_dict[i]\n",
        "      #take the mean and update the point to cluster mean\n",
        "      if(len(self.clustered_points[i])>0):\n",
        "        cluster_mean = np.mean(self.clustered_points[i], axis=0)\n",
        "        #update the centers\n",
        "        self.centers[i] = cluster_mean\n",
        "      else:\n",
        "        #empty list, dont update\n",
        "        continue\n",
        "    print('\\ncenters after an update: \\n',self.centers)  \n",
        "\n",
        "      \n",
        "  def distance(self):\n",
        "    '''\n",
        "    this method calculates the Euclidean distance of all the points with all the\n",
        "    other data points\n",
        "    '''\n",
        "    self.dist = []\n",
        "    column=0\n",
        "    for point in self.centers:\n",
        "      #calculate the euclidean dist of each point from the dataset\n",
        "      euc_dist = np.sqrt(np.sum((self.data - point)**2, axis=1))\n",
        "      #list containing k lists. ith list in dist coorsponds to ith center\n",
        "      #jth element of ith list is the distance of ith cluster point from jth data\n",
        "      self.dist.append(euc_dist)\n",
        "    #print(self.dist,'\\n')\n",
        "\n",
        "  def fit(self):\n",
        "    #run the update until the centers stop changing\n",
        "    self.init_cluster_centers()\n",
        "    print('\\ninitial cluster centers = \\n', self.centers)\n",
        "    \n",
        "    while(True):\n",
        "      #centers before the update\n",
        "      before_update = self.centers\n",
        "      self.distance()\n",
        "      self.update_cluster_centers()\n",
        "      #centers after the update\n",
        "      after_update = self.centers\n",
        "      \n",
        "      #check for convergence\n",
        "      if(np.all(before_update==after_update)):\n",
        "        break\n",
        "    \n",
        "    print('\\ncluster centers after the KNN convergence = \\n', self.centers)"
      ],
      "execution_count": null,
      "outputs": []
    },
    {
      "cell_type": "code",
      "metadata": {
        "colab": {
          "base_uri": "https://localhost:8080/"
        },
        "id": "DJxRUb3fmOkz",
        "outputId": "5d6255eb-f9d1-4888-e453-308659d6c412"
      },
      "source": [
        "#runner code\n",
        "dataset = load_iris()\n",
        "data = dataset.data\n",
        "target = dataset.target\n",
        "\n",
        "obj = KMeansClustering(data, target, clusters=5)\n",
        "obj.fit()"
      ],
      "execution_count": null,
      "outputs": [
        {
          "output_type": "stream",
          "text": [
            "\n",
            "initial cluster centers = \n",
            " [[0.90337952 0.57367949 0.00287033 0.61714491]\n",
            " [0.3266449  0.5270581  0.8859421  0.35726976]\n",
            " [0.90853515 0.62336012 0.01582124 0.92943723]\n",
            " [0.69089692 0.99732285 0.17234051 0.13713575]\n",
            " [0.93259546 0.69681816 0.06600017 0.75546305]]\n",
            "\n",
            "centers after an update: \n",
            " [[0.90337952 0.57367949 0.00287033 0.61714491]\n",
            " [0.79265823 0.3635443  0.62101266 0.2121519 ]\n",
            " [0.90853515 0.62336012 0.01582124 0.92943723]\n",
            " [0.63367089 0.43392405 0.18506329 0.03113924]\n",
            " [0.93259546 0.69681816 0.06600017 0.75546305]]\n",
            "\n",
            "cluster centers after the KNN convergence = \n",
            " [[0.90337952 0.57367949 0.00287033 0.61714491]\n",
            " [0.79265823 0.3635443  0.62101266 0.2121519 ]\n",
            " [0.90853515 0.62336012 0.01582124 0.92943723]\n",
            " [0.63367089 0.43392405 0.18506329 0.03113924]\n",
            " [0.93259546 0.69681816 0.06600017 0.75546305]]\n"
          ],
          "name": "stdout"
        }
      ]
    }
  ]
}